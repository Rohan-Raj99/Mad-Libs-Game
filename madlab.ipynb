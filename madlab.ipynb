{
 "cells": [
  {
   "cell_type": "code",
   "execution_count": null,
   "metadata": {
    "scrolled": true
   },
   "outputs": [
    {
     "name": "stdout",
     "output_type": "stream",
     "text": [
      "There are many____1____ways to choose a/an ____2_____ to read \n",
      " First,you could ask for recommandations from your friends and _____ 3_____.\n",
      "Just don't ask aunt ____4 ____ She only reads ____ 5 ____ books with____6 _____ ripping goddesses on the cover. \n",
      "If your friends or family are no help, try checking out the____ 7 ______Review in the____ 8_____ times.\n",
      "If the_____ 9 _____ featured there are too ____ 10 ____ for your taste,try something a little more low -____11 ___,\n",
      "like______12______:The____13___ magazine,or______14_____ Magazine. You could also choose a book the ______15______ \n",
      "fashioned way. Head to your local Library or_____16____ and Browse the shelves untill something catches your ____17____\n",
      " Or, you could save yourself a whole lot of____18____ trouble and log on to bookish.com,the____19____ new website \n",
      "to___20___ for books! With all the time you'll save not having to search for_____21____, you read___22___ more book!\n"
     ]
    }
   ],
   "source": [
    "# program fill in the blanks\n",
    "\n",
    "print(\"There are many____1____ways to choose a/an ____2_____ to read \\n First,you could ask for recommandations from your friends and _____ 3_____.\\nJust don't ask aunt ____4 ____ She only reads ____ 5 ____ books with____6 _____ ripping goddesses on the cover. \\nIf your friends or family are no help, try checking out the____ 7 ______Review in the____ 8_____ times.\\nIf the_____ 9 _____ featured there are too ____ 10 ____ for your taste,try something a little more low -____11 ___,\\nlike______12______:The____13___ magazine,or______14_____ Magazine. You could also choose a book the ______15______ \\nfashioned way. Head to your local Library or_____16____ and Browse the shelves untill something catches your ____17____\\n Or, you could save yourself a whole lot of____18____ trouble and log on to bookish.com,the____19____ new website \\nto___20___ for books! With all the time you'll save not having to search for_____21____, you read___22___ more book!\")\n",
    "a=(input('1.')) \n",
    "b=(input('2.'))\n",
    "c=(input('3.'))\n",
    "d=(input('4.'))\n",
    "e=(input('5.'))\n",
    "f=(input('6.'))\n",
    "g=(input('7.'))\n",
    "h=(input('8.'))\n",
    "i=(input('9.'))\n",
    "j=(input('10.'))\n",
    "k=(input('11.'))\n",
    "l=(input('12.'))\n",
    "m=(input('13.'))\n",
    "n=(input('14.'))\n",
    "o=(input('15.'))\n",
    "p=(input('16.'))\n",
    "q=(input('17.'))\n",
    "r=(input('18.'))\n",
    "s=(input('19.'))\n",
    "t=(input('20.'))\n",
    "u=(input('21.'))\n",
    "v=(input('22.'))\n",
    "\n",
    "\n",
    "print(\" Result: \\nThere are many {} ways to choose a/an {} to  \\nread First,you could ask for recommandations from your friends \\nand {}.Just don't ask aunt {} She only \\nreads {} books with {} ripping goddesses \\non the cover. If your friends or family are no help, try checking out the \\n{} Review in the {} times.If the {} \\nfeatured there are too {} for your taste,try something a little \\nmore low - {} ,like {} :The {} magazine,or {} \\nMagazine. You could also choose a book the \\n{} fashioned way. Head to your local Library or {}  \\nand Browse the shelves untill something catches your {} . \\nOr, you could save yourself a whole lot of {} trouble and log on \\nto bookish.com,the {} new website to {}for  \\nbooks! With all the time you'll save not having to search for {} , \\nyou read {} more book!\".format(a,b,c,d,e,f,g,h,i,j,k,l,m,n,o,p,q,r,s,t,u,v))"
   ]
  },
  {
   "cell_type": "code",
   "execution_count": null,
   "metadata": {},
   "outputs": [],
   "source": []
  },
  {
   "cell_type": "code",
   "execution_count": null,
   "metadata": {},
   "outputs": [],
   "source": []
  }
 ],
 "metadata": {
  "kernelspec": {
   "display_name": "Python 3",
   "language": "python",
   "name": "python3"
  },
  "language_info": {
   "codemirror_mode": {
    "name": "ipython",
    "version": 3
   },
   "file_extension": ".py",
   "mimetype": "text/x-python",
   "name": "python",
   "nbconvert_exporter": "python",
   "pygments_lexer": "ipython3",
   "version": "3.8.3"
  }
 },
 "nbformat": 4,
 "nbformat_minor": 4
}
